{
 "cells": [
  {
   "cell_type": "markdown",
   "metadata": {},
   "source": [
    "# Skip-gram word2vec\n",
    "\n",
    "In this notebook, I'll lead you through using TensorFlow to implement the word2vec algorithm using the skip-gram architecture. By implementing this, you'll learn about embedding words for use in natural language processing. This will come in handy when dealing with things like machine translation.\n",
    "\n",
    "## Readings\n",
    "\n",
    "Here are the resources I used to build this notebook. I suggest reading these either beforehand or while you're working on this material.\n",
    "\n",
    "* A really good [conceptual overview](http://mccormickml.com/2016/04/19/word2vec-tutorial-the-skip-gram-model/) of word2vec from Chris McCormick \n",
    "* [First word2vec paper](https://arxiv.org/pdf/1301.3781.pdf) from Mikolov et al.\n",
    "* [NIPS paper](http://papers.nips.cc/paper/5021-distributed-representations-of-words-and-phrases-and-their-compositionality.pdf) with improvements for word2vec also from Mikolov et al.\n",
    "* An [implementation of word2vec](http://www.thushv.com/natural_language_processing/word2vec-part-1-nlp-with-deep-learning-with-tensorflow-skip-gram/) from Thushan Ganegedara\n",
    "* TensorFlow [word2vec tutorial](https://www.tensorflow.org/tutorials/word2vec)\n",
    "\n",
    "## Word embeddings\n",
    "\n",
    "When you're dealing with words in text, you end up with tens of thousands of classes to predict, one for each word. Trying to one-hot encode these words is massively inefficient, you'll have one element set to 1 and the other 50,000 set to 0. The matrix multiplication going into the first hidden layer will have almost all of the resulting values be zero. This a huge waste of computation. \n",
    "\n",
    "![one-hot encodings](assets/one_hot_encoding.png)\n",
    "\n",
    "To solve this problem and greatly increase the efficiency of our networks, we use what are called embeddings. Embeddings are just a fully connected layer like you've seen before. We call this layer the embedding layer and the weights are embedding weights. We skip the multiplication into the embedding layer by instead directly grabbing the hidden layer values from the weight matrix. We can do this because the multiplication of a one-hot encoded vector with a matrix returns the row of the matrix corresponding the index of the \"on\" input unit.\n",
    "\n",
    "![lookup](assets/lookup_matrix.png)\n",
    "\n",
    "Instead of doing the matrix multiplication, we use the weight matrix as a lookup table. We encode the words as integers, for example \"heart\" is encoded as 958, \"mind\" as 18094. Then to get hidden layer values for \"heart\", you just take the 958th row of the embedding matrix. This process is called an **embedding lookup** and the number of hidden units is the **embedding dimension**.\n",
    "\n",
    "<img src='assets/tokenize_lookup.png' width=500>\n",
    " \n",
    "There is nothing magical going on here. The embedding lookup table is just a weight matrix. The embedding layer is just a hidden layer. The lookup is just a shortcut for the matrix multiplication. The lookup table is trained just like any weight matrix as well.\n",
    "\n",
    "Embeddings aren't only used for words of course. You can use them for any model where you have a massive number of classes. A particular type of model called **Word2Vec** uses the embedding layer to find vector representations of words that contain semantic meaning.\n",
    "\n"
   ]
  },
  {
   "cell_type": "markdown",
   "metadata": {},
   "source": [
    "## Word2Vec\n",
    "\n",
    "The word2vec algorithm finds much more efficient representations by finding vectors that represent the words. These vectors also contain semantic information about the words. Words that show up in similar contexts, such as \"black\", \"white\", and \"red\" will have vectors near each other. There are two architectures for implementing word2vec, CBOW (Continuous Bag-Of-Words) and Skip-gram.\n",
    "\n",
    "<img src=\"assets/word2vec_architectures.png\" width=\"500\">\n",
    "\n",
    "In this implementation, we'll be using the skip-gram architecture because it performs better than CBOW. Here, we pass in a word and try to predict the words surrounding it in the text. In this way, we can train the network to learn representations for words that show up in similar contexts.\n",
    "\n",
    "First up, importing packages."
   ]
  },
  {
   "cell_type": "code",
   "execution_count": 1,
   "metadata": {
    "collapsed": true
   },
   "outputs": [],
   "source": [
    "import time\n",
    "\n",
    "import numpy as np\n",
    "import tensorflow as tf\n",
    "\n",
    "import utils"
   ]
  },
  {
   "cell_type": "markdown",
   "metadata": {},
   "source": [
    "Load the [text8 dataset](http://mattmahoney.net/dc/textdata.html), a file of cleaned up Wikipedia articles from Matt Mahoney. The next cell will download the data set to the `data` folder. Then you can extract it and delete the archive file to save storage space."
   ]
  },
  {
   "cell_type": "code",
   "execution_count": 2,
   "metadata": {},
   "outputs": [],
   "source": [
    "from urllib.request import urlretrieve\n",
    "from os.path import isfile, isdir\n",
    "from tqdm import tqdm\n",
    "import zipfile\n",
    "\n",
    "dataset_folder_path = 'data'\n",
    "dataset_filename = 'text8.zip'\n",
    "dataset_name = 'Text8 Dataset'\n",
    "\n",
    "class DLProgress(tqdm):\n",
    "    last_block = 0\n",
    "\n",
    "    def hook(self, block_num=1, block_size=1, total_size=None):\n",
    "        self.total = total_size\n",
    "        self.update((block_num - self.last_block) * block_size)\n",
    "        self.last_block = block_num\n",
    "\n",
    "if not isfile(dataset_filename):\n",
    "    with DLProgress(unit='B', unit_scale=True, miniters=1, desc=dataset_name) as pbar:\n",
    "        urlretrieve(\n",
    "            'http://mattmahoney.net/dc/text8.zip',\n",
    "            dataset_filename,\n",
    "            pbar.hook)\n",
    "\n",
    "if not isdir(dataset_folder_path):\n",
    "    with zipfile.ZipFile(dataset_filename) as zip_ref:\n",
    "        zip_ref.extractall(dataset_folder_path)\n",
    "        \n",
    "with open('data/text8') as f:\n",
    "    text = f.read()"
   ]
  },
  {
   "cell_type": "markdown",
   "metadata": {},
   "source": [
    "## Preprocessing\n",
    "\n",
    "Here I'm fixing up the text to make training easier. This comes from the `utils` module I wrote. The `preprocess` function coverts any punctuation into tokens, so a period is changed to ` <PERIOD> `. In this data set, there aren't any periods, but it will help in other NLP problems. I'm also removing all words that show up five or fewer times in the dataset. This will greatly reduce issues due to noise in the data and improve the quality of the vector representations. If you want to write your own functions for this stuff, go for it."
   ]
  },
  {
   "cell_type": "code",
   "execution_count": 3,
   "metadata": {},
   "outputs": [
    {
     "name": "stdout",
     "output_type": "stream",
     "text": [
      "['anarchism', 'originated', 'as', 'a', 'term', 'of', 'abuse', 'first', 'used', 'against', 'early', 'working', 'class', 'radicals', 'including', 'the', 'diggers', 'of', 'the', 'english', 'revolution', 'and', 'the', 'sans', 'culottes', 'of', 'the', 'french', 'revolution', 'whilst']\n"
     ]
    }
   ],
   "source": [
    "words = utils.preprocess(text)\n",
    "print(words[:30])"
   ]
  },
  {
   "cell_type": "code",
   "execution_count": 4,
   "metadata": {},
   "outputs": [
    {
     "name": "stdout",
     "output_type": "stream",
     "text": [
      "Total words: 16680599\n",
      "Unique words: 63641\n"
     ]
    }
   ],
   "source": [
    "print(\"Total words: {}\".format(len(words)))\n",
    "print(\"Unique words: {}\".format(len(set(words))))"
   ]
  },
  {
   "cell_type": "markdown",
   "metadata": {},
   "source": [
    "And here I'm creating dictionaries to convert words to integers and backwards, integers to words. The integers are assigned in descending frequency order, so the most frequent word (\"the\") is given the integer 0 and the next most frequent is 1 and so on. The words are converted to integers and stored in the list `int_words`."
   ]
  },
  {
   "cell_type": "code",
   "execution_count": 5,
   "metadata": {
    "collapsed": true
   },
   "outputs": [],
   "source": [
    "vocab_to_int, int_to_vocab = utils.create_lookup_tables(words)\n",
    "int_words = [vocab_to_int[word] for word in words]"
   ]
  },
  {
   "cell_type": "markdown",
   "metadata": {},
   "source": [
    "## Subsampling\n",
    "\n",
    "Words that show up often such as \"the\", \"of\", and \"for\" don't provide much context to the nearby words. If we discard some of them, we can remove some of the noise from our data and in return get faster training and better representations. This process is called subsampling by Mikolov. For each word $w_i$ in the training set, we'll discard it with probability given by \n",
    "\n",
    "$$ P(w_i) = 1 - \\sqrt{\\frac{t}{f(w_i)}} $$\n",
    "\n",
    "where $t$ is a threshold parameter and $f(w_i)$ is the frequency of word $w_i$ in the total dataset.\n",
    "\n",
    "I'm going to leave this up to you as an exercise. This is more of a programming challenge, than about deep learning specifically. But, being able to prepare your data for your network is an important skill to have. Check out my solution to see how I did it.\n",
    "\n",
    "> **Exercise:** Implement subsampling for the words in `int_words`. That is, go through `int_words` and discard each word given the probablility $P(w_i)$ shown above. Note that $P(w_i)$ is the probability that a word is discarded. Assign the subsampled data to `train_words`."
   ]
  },
  {
   "cell_type": "code",
   "execution_count": 7,
   "metadata": {},
   "outputs": [],
   "source": [
    "## Your code here\n",
    "from collections import Counter\n",
    "\n",
    "threshold = 1e-5\n",
    "words_count = Counter(int_words)\n",
    "total_count = len(int_words)\n",
    "words_freq = {word:cnt/float(total_count)  for word, cnt in words_count.items()}\n",
    "\n",
    "def sample_dropprob(word_freq, threshold):\n",
    "    return 1-(threshold/word_freq)**0.5\n",
    "\n",
    "train_words = [int_word for int_word in int_words \\\n",
    "               if np.random.uniform()>sample_dropprob(words_freq[int_word],threshold)]# The final subsampled word list"
   ]
  },
  {
   "cell_type": "markdown",
   "metadata": {},
   "source": [
    "## Making batches"
   ]
  },
  {
   "cell_type": "markdown",
   "metadata": {},
   "source": [
    "Now that our data is in good shape, we need to get it into the proper form to pass it into our network. With the skip-gram architecture, for each word in the text, we want to grab all the words in a window around that word, with size $C$. \n",
    "\n",
    "From [Mikolov et al.](https://arxiv.org/pdf/1301.3781.pdf): \n",
    "\n",
    "\"Since the more distant words are usually less related to the current word than those close to it, we give less weight to the distant words by sampling less from those words in our training examples... If we choose $C = 5$, for each training word we will select randomly a number $R$ in range $< 1; C >$, and then use $R$ words from history and $R$ words from the future of the current word as correct labels.\"\n",
    "\n",
    "> **Exercise:** Implement a function `get_target` that receives a list of words, an index, and a window size, then returns a list of words in the window around the index. Make sure to use the algorithm described above, where you choose a random number of words from the window."
   ]
  },
  {
   "cell_type": "code",
   "execution_count": 21,
   "metadata": {
    "collapsed": true
   },
   "outputs": [],
   "source": [
    "def get_target(words, idx, window_size=5):\n",
    "    ''' Get a list of words in a window around an index. '''\n",
    "    \n",
    "    # Your code here\n",
    "    R = np.random.randint(1, window_size+1) # due to python, window_size+1 gives us the maximum window_size\n",
    "    #print(\"small window R is \", R)\n",
    "    start = idx-R if idx-R > 0 else 0    # set the boundary\n",
    "    stop = idx+R+1\n",
    "    #print(start, stop)\n",
    "    target_words = set(words[start:idx]+words[idx+1:stop])\n",
    "    \n",
    "    return target_words"
   ]
  },
  {
   "cell_type": "code",
   "execution_count": 22,
   "metadata": {},
   "outputs": [],
   "source": [
    "text = \"I am happy today; need to complish more\".split(' ')\n",
    "target = get_target(text, 2, window_size=3)"
   ]
  },
  {
   "cell_type": "code",
   "execution_count": 23,
   "metadata": {},
   "outputs": [
    {
     "data": {
      "text/plain": [
       "{'I', 'am', 'need', 'today;'}"
      ]
     },
     "execution_count": 23,
     "metadata": {},
     "output_type": "execute_result"
    }
   ],
   "source": [
    "target"
   ]
  },
  {
   "cell_type": "markdown",
   "metadata": {},
   "source": [
    "Here's a function that returns batches for our network. The idea is that it grabs `batch_size` words from a words list. Then for each of those words, it gets the target words in the window. I haven't found a way to pass in a random number of target words and get it to work with the architecture, so I make one row per input-target pair. This is a generator function by the way, helps save memory."
   ]
  },
  {
   "cell_type": "code",
   "execution_count": 33,
   "metadata": {
    "collapsed": true
   },
   "outputs": [],
   "source": [
    "def get_batches(words, batch_size, window_size=5):\n",
    "    ''' Create a generator of word batches as a tuple (inputs, targets) '''\n",
    "    \n",
    "    n_batches = len(words)//batch_size\n",
    "    \n",
    "    # only full batches\n",
    "    words = words[:n_batches*batch_size]\n",
    "    \n",
    "    for idx in range(0, len(words), batch_size):\n",
    "        x, y = [], []\n",
    "        batch = words[idx:idx+batch_size]\n",
    "        print(\"Here is the batch: \", batch)\n",
    "        for ii in range(len(batch)):\n",
    "            batch_x = batch[ii]\n",
    "            batch_y = get_target(batch, ii, window_size)\n",
    "            y.extend(batch_y)\n",
    "            x.extend([batch_x]*len(batch_y))\n",
    "        yield x, y\n",
    "        \n",
    "def get_batches(words, batch_size, window_size=5):\n",
    "    num_batches = len(words) // batch_size\n",
    "    words = words[:batch_size*num_batches]\n",
    "    \n",
    "    for i in range(0, len(words), batch_size):\n",
    "        x,y = [],[]\n",
    "        batch = words[i:i+batch_size]\n",
    "        for idx in range(batch_size):\n",
    "            batch_x = batch[idx]\n",
    "            batch_y = get_target(batch, idx, window_size)\n",
    "            y.extend(batch_y)\n",
    "            x.extend([batch_x]*len(batch_y))\n",
    "        yield x, y"
   ]
  },
  {
   "cell_type": "code",
   "execution_count": 34,
   "metadata": {},
   "outputs": [
    {
     "name": "stdout",
     "output_type": "stream",
     "text": [
      "['I', 'I', 'am', 'am', 'happy', 'happy', 'happy', 'happy', 'today;', 'today;', 'need']\n",
      "['am', 'happy', 'happy', 'I', 'today;', 'am', 'I', 'need', 'happy', 'need', 'today;']\n"
     ]
    }
   ],
   "source": [
    "text = \"I am happy today; need to complish more\".split(' ')\n",
    "for x, y in get_batches(text, 5, window_size=3):\n",
    "    print(x )\n",
    "    print(y)"
   ]
  },
  {
   "cell_type": "markdown",
   "metadata": {},
   "source": [
    "## Building the graph\n",
    "\n",
    "From [Chris McCormick's blog](http://mccormickml.com/2016/04/19/word2vec-tutorial-the-skip-gram-model/), we can see the general structure of our network.\n",
    "![embedding_network](./assets/skip_gram_net_arch.png)\n",
    "\n",
    "The input words are passed in as integers. This will go into a hidden layer of linear units, then into a softmax layer. We'll use the softmax layer to make a prediction like normal.\n",
    "\n",
    "The idea here is to train the hidden layer weight matrix to find efficient representations for our words. We can discard the softmax layer becuase we don't really care about making predictions with this network. We just want the embedding matrix so we can use it in other networks we build from the dataset.\n",
    "\n",
    "I'm going to have you build the graph in stages now. First off, creating the `inputs` and `labels` placeholders like normal.\n",
    "\n",
    "> **Exercise:** Assign `inputs` and `labels` using `tf.placeholder`. We're going to be passing in integers, so set the data types to `tf.int32`. The batches we're passing in will have varying sizes, so set the batch sizes to [`None`]. To make things work later, you'll need to set the second dimension of `labels` to `None` or `1`."
   ]
  },
  {
   "cell_type": "code",
   "execution_count": 36,
   "metadata": {
    "collapsed": true
   },
   "outputs": [],
   "source": [
    "train_graph = tf.Graph()\n",
    "with train_graph.as_default():\n",
    "    inputs = tf.placeholder(tf.int32, [None], name=\"inputs\")\n",
    "    labels = tf.placeholder(tf.int32, [None, None], name=\"labels\")"
   ]
  },
  {
   "cell_type": "markdown",
   "metadata": {},
   "source": [
    "## Embedding\n",
    "\n"
   ]
  },
  {
   "cell_type": "markdown",
   "metadata": {
    "collapsed": true
   },
   "source": [
    "The embedding matrix has a size of the number of words by the number of units in the hidden layer. So, if you have 10,000 words and 300 hidden units, the matrix will have size $10,000 \\times 300$. Remember that we're using tokenized data for our inputs, usually as integers, where the number of tokens is the number of words in our vocabulary.\n",
    "\n",
    "\n",
    "> **Exercise:** Tensorflow provides a convenient function [`tf.nn.embedding_lookup`](https://www.tensorflow.org/api_docs/python/tf/nn/embedding_lookup) that does this lookup for us. You pass in the embedding matrix and a tensor of integers, then it returns rows in the matrix corresponding to those integers. Below, set the number of embedding features you'll use (200 is a good start), create the embedding matrix variable, and use `tf.nn.embedding_lookup` to get the embedding tensors. For the embedding matrix, I suggest you initialize it with a uniform random numbers between -1 and 1 using [tf.random_uniform](https://www.tensorflow.org/api_docs/python/tf/random_uniform)."
   ]
  },
  {
   "cell_type": "code",
   "execution_count": 37,
   "metadata": {
    "collapsed": true
   },
   "outputs": [],
   "source": [
    "n_vocab = len(int_to_vocab)\n",
    "n_embedding =  200 # Number of embedding features \n",
    "with train_graph.as_default():\n",
    "    embedding = tf.Variable(tf.random_uniform((n_vocab, n_embedding), minval=-1, maxval=1) )# create embedding weight matrix here\n",
    "    embed = tf.nn.embedding_lookup(embedding, inputs)# use tf.nn.embedding_lookup to get the hidden layer output"
   ]
  },
  {
   "cell_type": "markdown",
   "metadata": {},
   "source": [
    "## Negative sampling\n",
    "\n"
   ]
  },
  {
   "cell_type": "markdown",
   "metadata": {},
   "source": [
    "For every example we give the network, we train it using the output from the softmax layer. That means for each input, we're making very small changes to millions of weights even though we only have one true example. This makes training the network very inefficient. We can approximate the loss from the softmax layer by only updating a small subset of all the weights at once. We'll update the weights for the correct label, but only a small number of incorrect labels. This is called [\"negative sampling\"](http://papers.nips.cc/paper/5021-distributed-representations-of-words-and-phrases-and-their-compositionality.pdf). Tensorflow has a convenient function to do this, [`tf.nn.sampled_softmax_loss`](https://www.tensorflow.org/api_docs/python/tf/nn/sampled_softmax_loss).\n",
    "\n",
    "> **Exercise:** Below, create weights and biases for the softmax layer. Then, use [`tf.nn.sampled_softmax_loss`](https://www.tensorflow.org/api_docs/python/tf/nn/sampled_softmax_loss) to calculate the loss. Be sure to read the documentation to figure out how it works."
   ]
  },
  {
   "cell_type": "code",
   "execution_count": 40,
   "metadata": {},
   "outputs": [
    {
     "name": "stdout",
     "output_type": "stream",
     "text": [
      "WARNING:tensorflow:From /Users/yajuanwang/anaconda/envs/dlnd/lib/python3.6/site-packages/tensorflow/python/ops/nn_impl.py:1310: softmax_cross_entropy_with_logits (from tensorflow.python.ops.nn_ops) is deprecated and will be removed in a future version.\n",
      "Instructions for updating:\n",
      "\n",
      "Future major versions of TensorFlow will allow gradients to flow\n",
      "into the labels input on backprop by default.\n",
      "\n",
      "See tf.nn.softmax_cross_entropy_with_logits_v2.\n",
      "\n"
     ]
    }
   ],
   "source": [
    "# Number of negative labels to sample\n",
    "n_sampled = 100\n",
    "with train_graph.as_default():\n",
    "    softmax_w = tf.Variable(tf.truncated_normal((n_vocab,n_embedding), stddev=0.1))# create softmax weight matrix here\n",
    "    softmax_b = tf.Variable(tf.zeros(n_vocab))# create softmax biases here\n",
    "    \n",
    "    # Calculate the loss using negative sampling\n",
    "    loss = tf.nn.sampled_softmax_loss(\n",
    "                weights = softmax_w,\n",
    "                biases = softmax_b, \n",
    "                labels = labels,\n",
    "                inputs = embed,\n",
    "                num_sampled = n_sampled,\n",
    "                num_classes = n_vocab)\n",
    "    \n",
    "    cost = tf.reduce_mean(loss)\n",
    "    optimizer = tf.train.AdamOptimizer().minimize(cost)"
   ]
  },
  {
   "cell_type": "markdown",
   "metadata": {},
   "source": [
    "## Validation\n",
    "\n",
    "This code is from Thushan Ganegedara's implementation. Here we're going to choose a few common words and few uncommon words. Then, we'll print out the closest words to them. It's a nice way to check that our embedding table is grouping together words with similar semantic meanings."
   ]
  },
  {
   "cell_type": "code",
   "execution_count": 42,
   "metadata": {},
   "outputs": [
    {
     "name": "stdout",
     "output_type": "stream",
     "text": [
      "WARNING:tensorflow:From <ipython-input-42-6cd0def8ff91>:14: calling reduce_sum (from tensorflow.python.ops.math_ops) with keep_dims is deprecated and will be removed in a future version.\n",
      "Instructions for updating:\n",
      "keep_dims is deprecated, use keepdims instead\n"
     ]
    }
   ],
   "source": [
    "import random\n",
    "with train_graph.as_default():\n",
    "    ## From Thushan Ganegedara's implementation\n",
    "    valid_size = 16 # Random set of words to evaluate similarity on.\n",
    "    valid_window = 100\n",
    "    # pick 8 samples from (0,100) and (1000,1100) each ranges. lower id implies more frequent \n",
    "    valid_examples = np.array(random.sample(range(valid_window), valid_size//2))\n",
    "    valid_examples = np.append(valid_examples, \n",
    "                               random.sample(range(1000,1000+valid_window), valid_size//2))\n",
    "\n",
    "    valid_dataset = tf.constant(valid_examples, dtype=tf.int32)\n",
    "    \n",
    "    # We use the cosine distance:\n",
    "    norm = tf.sqrt(tf.reduce_sum(tf.square(embedding), 1, keep_dims=True))\n",
    "    normalized_embedding = embedding / norm\n",
    "    valid_embedding = tf.nn.embedding_lookup(normalized_embedding, valid_dataset)\n",
    "    similarity = tf.matmul(valid_embedding, tf.transpose(normalized_embedding))"
   ]
  },
  {
   "cell_type": "code",
   "execution_count": 43,
   "metadata": {
    "collapsed": true
   },
   "outputs": [],
   "source": [
    "# If the checkpoints directory doesn't exist:\n",
    "!mkdir checkpoints"
   ]
  },
  {
   "cell_type": "markdown",
   "metadata": {},
   "source": [
    "## Training\n",
    "\n",
    "Below is the code to train the network. Every 100 batches it reports the training loss. Every 1000 batches, it'll print out the validation words."
   ]
  },
  {
   "cell_type": "code",
   "execution_count": null,
   "metadata": {},
   "outputs": [
    {
     "name": "stdout",
     "output_type": "stream",
     "text": [
      "Epoch 1/10 Iteration: 100 Avg. Training loss: 5.6321 0.3528 sec/batch\n",
      "Epoch 1/10 Iteration: 200 Avg. Training loss: 5.6487 0.3001 sec/batch\n",
      "Epoch 1/10 Iteration: 300 Avg. Training loss: 5.4955 0.3008 sec/batch\n",
      "Epoch 1/10 Iteration: 400 Avg. Training loss: 5.5803 0.3282 sec/batch\n",
      "Epoch 1/10 Iteration: 500 Avg. Training loss: 5.5125 0.3539 sec/batch\n",
      "Epoch 1/10 Iteration: 600 Avg. Training loss: 5.4937 0.3080 sec/batch\n",
      "Epoch 1/10 Iteration: 700 Avg. Training loss: 5.5640 0.2954 sec/batch\n",
      "Epoch 1/10 Iteration: 800 Avg. Training loss: 5.6036 0.2908 sec/batch\n",
      "Epoch 1/10 Iteration: 900 Avg. Training loss: 5.4531 0.3362 sec/batch\n",
      "Epoch 1/10 Iteration: 1000 Avg. Training loss: 5.4202 0.3044 sec/batch\n",
      "Nearest to not: mimo, practiced, anchises, angeles, meeting, commonsense, grammys, parthenogenesis,\n",
      "Nearest to d: prasse, shrunk, cornelia, stories, lopez, perigee, hydrographic, situated,\n",
      "Nearest to time: because, fines, oscar, fodder, pardons, mimo, unnecessarily, wooden,\n",
      "Nearest to use: guip, extremity, lrc, persisted, autonomist, beta, andaman, harappan,\n",
      "Nearest to was: zero, ticker, aj, mambo, waltrip, induced, ndez, auditions,\n",
      "Nearest to who: strummer, erbium, gradus, ambiguity, cemented, drill, force, compatriots,\n",
      "Nearest to six: put, ankara, implosive, gatling, neri, docherty, peckinpah, hubei,\n",
      "Nearest to an: cantor, shf, quicklime, conectiva, maastricht, hellish, politburo, grange,\n",
      "Nearest to something: marked, medal, frogmen, gunter, glace, enlisted, loki, pimpernel,\n",
      "Nearest to versions: walked, communicative, rapunzel, clandestine, stop, reinforcing, highway, glazed,\n",
      "Nearest to shows: walten, francis, carnation, sovereignly, thalassemia, clarify, papier, realizations,\n",
      "Nearest to alternative: cryoprotectant, matthias, industrious, farber, parabellum, pontus, heiress, mazar,\n",
      "Nearest to experience: linings, pasternak, bernhard, begging, oldman, nihil, reinstating, bully,\n",
      "Nearest to engine: minnesota, hemispheres, undermine, saintes, bonds, monsieur, duc, dantzig,\n",
      "Nearest to stage: xis, pyr, kasner, barnet, aces, dodd, camelids, inquisitorial,\n",
      "Nearest to police: faint, entombed, unlucky, kinder, albanians, purchaser, unrestrained, gilgamesh,\n",
      "Epoch 1/10 Iteration: 1100 Avg. Training loss: 5.4635 0.3050 sec/batch\n",
      "Epoch 1/10 Iteration: 1200 Avg. Training loss: 5.4102 0.2974 sec/batch\n",
      "Epoch 1/10 Iteration: 1300 Avg. Training loss: 5.3560 0.2982 sec/batch\n",
      "Epoch 1/10 Iteration: 1400 Avg. Training loss: 5.2230 0.3455 sec/batch\n",
      "Epoch 1/10 Iteration: 1500 Avg. Training loss: 5.1598 0.2933 sec/batch\n",
      "Epoch 1/10 Iteration: 1600 Avg. Training loss: 5.1549 0.2908 sec/batch\n",
      "Epoch 1/10 Iteration: 1700 Avg. Training loss: 5.0897 0.2946 sec/batch\n",
      "Epoch 1/10 Iteration: 1800 Avg. Training loss: 5.0548 0.3252 sec/batch\n",
      "Epoch 1/10 Iteration: 1900 Avg. Training loss: 5.0162 0.2925 sec/batch\n",
      "Epoch 1/10 Iteration: 2000 Avg. Training loss: 4.9768 0.3329 sec/batch\n",
      "Nearest to not: practiced, meeting, mimo, lds, parthenogenesis, situated, cases, musician,\n",
      "Nearest to d: shrunk, stories, prasse, situated, coincide, cornelia, cowan, lopez,\n",
      "Nearest to time: because, fines, oscar, specifying, dame, regained, operationally, begins,\n",
      "Nearest to use: admit, guip, extremity, persisted, quantities, dragons, beta, scientific,\n",
      "Nearest to was: zero, ticker, induced, aj, waltrip, ndez, prime, defy,\n",
      "Nearest to who: force, strummer, erbium, ambiguity, later, mix, first, oldest,\n",
      "Nearest to six: put, case, seven, ankara, productivity, making, translation, proponent,\n",
      "Nearest to an: cantor, politburo, maastricht, shf, worldstatesmen, reason, but, hellish,\n",
      "Nearest to something: marked, medal, out, frogmen, memory, legislative, fins, gunter,\n",
      "Nearest to versions: stop, walked, clandestine, highway, christianity, communicative, possibly, warrant,\n",
      "Nearest to shows: francis, walten, clarify, process, reveal, dvds, geometry, recalled,\n",
      "Nearest to alternative: cryoprotectant, like, matthias, datapoint, orbits, are, farber, secunda,\n",
      "Nearest to experience: linings, px, acquires, reciprocation, tudor, bernhard, pasternak, guerrero,\n",
      "Nearest to engine: bonds, critics, minnesota, few, saintes, undermine, struggles, competed,\n",
      "Nearest to stage: barnet, kasner, dodd, respectively, reintroduced, wielder, seuss, xis,\n",
      "Nearest to police: faint, trading, purchaser, correspondent, entombed, kinder, unrestrained, gilgamesh,\n",
      "Epoch 1/10 Iteration: 2100 Avg. Training loss: 4.9320 0.3439 sec/batch\n",
      "Epoch 1/10 Iteration: 2200 Avg. Training loss: 4.8960 0.3554 sec/batch\n",
      "Epoch 1/10 Iteration: 2300 Avg. Training loss: 4.8900 0.3562 sec/batch\n",
      "Epoch 1/10 Iteration: 2400 Avg. Training loss: 4.8802 0.3539 sec/batch\n",
      "Epoch 1/10 Iteration: 2500 Avg. Training loss: 4.8261 0.3531 sec/batch\n",
      "Epoch 1/10 Iteration: 2600 Avg. Training loss: 4.7969 0.3861 sec/batch\n",
      "Epoch 1/10 Iteration: 2700 Avg. Training loss: 4.7946 0.3753 sec/batch\n",
      "Epoch 1/10 Iteration: 2800 Avg. Training loss: 4.7911 0.3782 sec/batch\n",
      "Epoch 1/10 Iteration: 2900 Avg. Training loss: 4.7871 0.3958 sec/batch\n",
      "Epoch 1/10 Iteration: 3000 Avg. Training loss: 4.7623 0.3486 sec/batch\n",
      "Nearest to not: practiced, mimo, parthenogenesis, anchises, meeting, lds, alphabet, undesirable,\n",
      "Nearest to d: shrunk, american, cornelia, kaiserreich, prasse, alta, cowan, stories,\n",
      "Nearest to time: because, fines, dame, specifying, fodder, regained, oscar, shades,\n",
      "Nearest to use: admit, persisted, extremity, beta, guip, violet, quantities, sealed,\n",
      "Nearest to was: zero, induced, ticker, mambo, prime, waltrip, aj, defy,\n",
      "Nearest to who: strummer, erbium, ambiguity, force, gradus, later, protestantism, compatriots,\n",
      "Nearest to six: seven, proponent, productivity, willis, translation, ankara, hunters, gatling,\n",
      "Nearest to an: cantor, maastricht, hellish, surprise, quicklime, worldstatesmen, estonia, politburo,\n",
      "Nearest to something: enlisted, prohibit, memory, gunter, glace, marked, medal, leibniz,\n",
      "Nearest to versions: walked, stop, clandestine, communicative, highway, christianity, warrant, uprisings,\n",
      "Nearest to shows: francis, clarify, walten, process, geometry, carnation, reveal, recalled,\n",
      "Nearest to alternative: cryoprotectant, prisoner, like, orbits, matthias, directory, photograph, lago,\n",
      "Nearest to experience: linings, tudor, bernhard, px, maneuvers, natively, acquires, pasternak,\n",
      "Nearest to engine: bonds, competed, saintes, minnesota, critics, undermine, few, struggles,\n",
      "Nearest to stage: kasner, barnet, pyr, reintroduced, dodd, aces, wielder, gustavus,\n",
      "Nearest to police: faint, trading, entombed, kinder, purchaser, correspondent, exploration, rfcs,\n",
      "Epoch 1/10 Iteration: 3100 Avg. Training loss: 4.7795 0.3459 sec/batch\n",
      "Epoch 1/10 Iteration: 3200 Avg. Training loss: 4.7654 0.3147 sec/batch\n",
      "Epoch 1/10 Iteration: 3300 Avg. Training loss: 4.7345 0.3372 sec/batch\n",
      "Epoch 1/10 Iteration: 3400 Avg. Training loss: 4.6898 0.2990 sec/batch\n",
      "Epoch 1/10 Iteration: 3500 Avg. Training loss: 4.7345 0.3575 sec/batch\n",
      "Epoch 1/10 Iteration: 3600 Avg. Training loss: 4.6974 0.2949 sec/batch\n",
      "Epoch 1/10 Iteration: 3700 Avg. Training loss: 4.6918 0.2965 sec/batch\n",
      "Epoch 1/10 Iteration: 3800 Avg. Training loss: 4.7082 0.2921 sec/batch\n",
      "Epoch 1/10 Iteration: 3900 Avg. Training loss: 4.7039 0.2909 sec/batch\n",
      "Epoch 1/10 Iteration: 4000 Avg. Training loss: 4.6688 0.2966 sec/batch\n",
      "Nearest to not: mimo, practiced, parthenogenesis, anchises, undesirable, cases, alphabet, commonsense,\n",
      "Nearest to d: american, footballer, kaiserreich, giovanni, norwegian, cornelia, jonathan, duke,\n",
      "Nearest to time: because, fines, dame, oscar, mimo, shades, regained, specifying,\n",
      "Nearest to use: admit, beta, violet, inspectors, extremity, quantities, persisted, guip,\n",
      "Nearest to was: ticker, induced, zero, prime, aj, mambo, waltrip, avail,\n",
      "Nearest to who: strummer, later, compatriots, erbium, gradus, sanction, first, force,\n",
      "Nearest to six: seven, willis, proponent, eight, prize, productivity, comedian, william,\n",
      "Nearest to an: cantor, quicklime, maastricht, hellish, mischief, conectiva, pcl, worldstatesmen,\n",
      "Nearest to something: glace, gunter, memory, enlisted, loki, prohibit, marked, leibniz,\n",
      "Nearest to versions: communicative, walked, clandestine, stop, highway, warrant, uprisings, christianity,\n",
      "Nearest to shows: clarify, francis, carnation, process, geometry, dvds, walten, partial,\n",
      "Nearest to alternative: cryoprotectant, like, prisoner, orbits, directory, interventionism, maelstrom, lago,\n",
      "Nearest to experience: linings, bernhard, maneuvers, reinstating, tudor, px, pasternak, oldman,\n",
      "Nearest to engine: bonds, saintes, competed, cannons, cobalt, hemispheres, refractive, few,\n",
      "Nearest to stage: barnet, pyr, kasner, emeritus, gustavus, aces, wielder, recreates,\n",
      "Nearest to police: faint, entombed, trading, correspondent, kinder, rfcs, purchaser, albanians,\n"
     ]
    },
    {
     "name": "stdout",
     "output_type": "stream",
     "text": [
      "Epoch 1/10 Iteration: 4100 Avg. Training loss: 4.6810 0.3349 sec/batch\n",
      "Epoch 1/10 Iteration: 4200 Avg. Training loss: 4.6619 0.3870 sec/batch\n",
      "Epoch 1/10 Iteration: 4300 Avg. Training loss: 4.6110 0.3638 sec/batch\n",
      "Epoch 1/10 Iteration: 4400 Avg. Training loss: 4.6225 0.3130 sec/batch\n",
      "Epoch 1/10 Iteration: 4500 Avg. Training loss: 4.6237 0.3003 sec/batch\n",
      "Epoch 1/10 Iteration: 4600 Avg. Training loss: 4.6733 0.3081 sec/batch\n",
      "Epoch 2/10 Iteration: 4700 Avg. Training loss: 4.5981 0.2253 sec/batch\n",
      "Epoch 2/10 Iteration: 4800 Avg. Training loss: 4.5490 0.3103 sec/batch\n",
      "Epoch 2/10 Iteration: 4900 Avg. Training loss: 4.5316 0.3071 sec/batch\n",
      "Epoch 2/10 Iteration: 5000 Avg. Training loss: 4.5261 0.3116 sec/batch\n",
      "Nearest to not: millionaires, mimo, practiced, undesirable, cases, commonsense, parthenogenesis, anchises,\n",
      "Nearest to d: american, footballer, norwegian, giovanni, duke, jonathan, lfo, physicist,\n",
      "Nearest to time: because, fines, specifying, dame, tasteless, mimo, shades, cataloging,\n",
      "Nearest to use: violet, admit, beta, faster, extremity, inspectors, conform, lrc,\n",
      "Nearest to was: ticker, induced, aj, mambo, prime, maggiore, waltrip, avail,\n",
      "Nearest to who: strummer, compatriots, later, gradus, erbium, sanction, first, protestantism,\n",
      "Nearest to six: seven, willis, comedian, prize, eight, three, william, proponent,\n",
      "Nearest to an: cantor, quicklime, conectiva, maastricht, mischief, pcl, hellish, reason,\n",
      "Nearest to something: glace, memory, loki, gunter, enlisted, prohibit, evaluates, oberon,\n",
      "Nearest to versions: communicative, stop, walked, clandestine, omitted, trucks, warrant, collegium,\n",
      "Nearest to shows: clarify, carnation, geometry, reveal, francis, process, partial, walten,\n",
      "Nearest to alternative: cryoprotectant, like, maelstrom, directory, orbits, exponentially, ifex, unavailable,\n",
      "Nearest to experience: linings, maneuvers, pasternak, begging, reinstating, bernhard, transcendence, px,\n",
      "Nearest to engine: bonds, hemispheres, cannons, refractive, cobalt, pasture, biological, naca,\n",
      "Nearest to stage: barnet, aces, pyr, xis, rig, recreates, kasner, gustavus,\n",
      "Nearest to police: faint, unlucky, trading, entombed, correspondent, kinder, albanians, espoused,\n",
      "Epoch 2/10 Iteration: 5100 Avg. Training loss: 4.5041 0.3142 sec/batch\n",
      "Epoch 2/10 Iteration: 5200 Avg. Training loss: 4.5162 0.3027 sec/batch\n",
      "Epoch 2/10 Iteration: 5300 Avg. Training loss: 4.4693 0.3119 sec/batch\n",
      "Epoch 2/10 Iteration: 5400 Avg. Training loss: 4.5026 0.3078 sec/batch\n",
      "Epoch 2/10 Iteration: 5500 Avg. Training loss: 4.4871 0.3025 sec/batch\n",
      "Epoch 2/10 Iteration: 5600 Avg. Training loss: 4.4801 0.3105 sec/batch\n",
      "Epoch 2/10 Iteration: 5700 Avg. Training loss: 4.4707 0.3091 sec/batch\n",
      "Epoch 2/10 Iteration: 5800 Avg. Training loss: 4.4025 0.3021 sec/batch\n",
      "Epoch 2/10 Iteration: 5900 Avg. Training loss: 4.4006 0.3107 sec/batch\n",
      "Epoch 2/10 Iteration: 6000 Avg. Training loss: 4.4707 0.3040 sec/batch\n",
      "Nearest to not: millionaires, practiced, cases, covenants, undesirable, mimo, hermeneutics, findslot,\n",
      "Nearest to d: footballer, american, norwegian, lfo, giovanni, jonathan, duke, kaiserreich,\n",
      "Nearest to time: because, fines, shades, tasteless, fodder, specifying, mimo, transcription,\n",
      "Nearest to use: admit, violet, beta, faster, lrc, conform, consumers, extremity,\n",
      "Nearest to was: ticker, maggiore, waltrip, disestablished, prime, induced, mambo, justice,\n",
      "Nearest to who: strummer, compatriots, later, gradus, erbium, protestantism, sanction, first,\n",
      "Nearest to six: seven, willis, comedian, eight, proponent, hunters, three, productivity,\n",
      "Nearest to an: cantor, quicklime, pcl, conectiva, maastricht, mischief, reason, korzybski,\n",
      "Nearest to something: glace, memory, gunter, prohibit, loki, oberon, enlisted, pimpernel,\n",
      "Nearest to versions: communicative, stop, trucks, clandestine, walked, neural, computer, ux,\n",
      "Nearest to shows: clarify, geometry, carnation, francis, reveal, thalassemia, teilhard, sovereignly,\n",
      "Nearest to alternative: like, cryoprotectant, ifex, directory, exponentially, interventionism, represent, maelstrom,\n",
      "Nearest to experience: linings, transcendence, pasternak, begging, maneuvers, reinstating, lakeside, admit,\n",
      "Nearest to engine: bonds, cobalt, refractive, hemispheres, pasture, cannons, steal, naca,\n",
      "Nearest to stage: aces, barnet, pyr, recreates, emeritus, gustavus, xis, kasner,\n",
      "Nearest to police: faint, unlucky, trading, kinder, espoused, entombed, correspondent, rfcs,\n",
      "Epoch 2/10 Iteration: 6100 Avg. Training loss: 4.4551 0.3076 sec/batch\n",
      "Epoch 2/10 Iteration: 6200 Avg. Training loss: 4.4064 0.3133 sec/batch\n",
      "Epoch 2/10 Iteration: 6300 Avg. Training loss: 4.4425 0.3049 sec/batch\n",
      "Epoch 2/10 Iteration: 6400 Avg. Training loss: 4.4137 0.3024 sec/batch\n",
      "Epoch 2/10 Iteration: 6500 Avg. Training loss: 4.4211 0.2992 sec/batch\n",
      "Epoch 2/10 Iteration: 6600 Avg. Training loss: 4.4543 2.6626 sec/batch\n",
      "Epoch 2/10 Iteration: 6700 Avg. Training loss: 4.3738 0.3814 sec/batch\n",
      "Epoch 2/10 Iteration: 6800 Avg. Training loss: 4.3854 0.3237 sec/batch\n",
      "Epoch 2/10 Iteration: 6900 Avg. Training loss: 4.4078 0.3120 sec/batch\n",
      "Epoch 2/10 Iteration: 7000 Avg. Training loss: 4.3622 0.3515 sec/batch\n",
      "Nearest to not: cases, mimo, millionaires, covenants, practiced, meets, alphabet, findslot,\n",
      "Nearest to d: footballer, american, norwegian, lfo, jonathan, kerr, giovanni, vladimir,\n",
      "Nearest to time: because, fines, shades, specifying, mimo, tasteless, transcription, modules,\n",
      "Nearest to use: admit, lrc, consumers, violet, faster, beta, conform, inspectors,\n",
      "Nearest to was: ticker, maggiore, disestablished, connoting, mambo, aj, noblest, nuncius,\n",
      "Nearest to who: compatriots, strummer, gradus, later, erbium, protestantism, sanction, sinfield,\n",
      "Nearest to six: seven, three, eight, willis, comedian, koufax, oriole, one,\n",
      "Nearest to an: cantor, quicklime, conectiva, pcl, korzybski, triomphe, mischief, hellish,\n",
      "Nearest to something: glace, memory, gunter, oberon, loki, fins, prohibit, evaluates,\n",
      "Nearest to versions: communicative, stop, ux, trucks, omitted, specification, walked, clandestine,\n",
      "Nearest to shows: teilhard, clarify, thalassemia, geometry, francis, reveal, dvds, ingredient,\n",
      "Nearest to alternative: cryoprotectant, directory, like, ifex, represent, interventionism, compositions, deformation,\n",
      "Nearest to experience: linings, transcendence, pasternak, begging, maneuvers, reinstating, lakeside, admit,\n",
      "Nearest to engine: bonds, cobalt, refractive, hemispheres, cannons, cli, pasture, engines,\n",
      "Nearest to stage: aces, recreates, pyr, barnet, gustavus, emeritus, seuss, kasner,\n",
      "Nearest to police: faint, unlucky, espoused, trading, entombed, kinder, correspondent, athenian,\n",
      "Epoch 2/10 Iteration: 7100 Avg. Training loss: 4.3832 0.3641 sec/batch\n",
      "Epoch 2/10 Iteration: 7200 Avg. Training loss: 4.3717 0.3067 sec/batch\n",
      "Epoch 2/10 Iteration: 7300 Avg. Training loss: 4.3629 0.3155 sec/batch\n",
      "Epoch 2/10 Iteration: 7400 Avg. Training loss: 4.3627 0.3147 sec/batch\n",
      "Epoch 2/10 Iteration: 7500 Avg. Training loss: 4.3846 0.3048 sec/batch\n",
      "Epoch 2/10 Iteration: 7600 Avg. Training loss: 4.3750 0.3162 sec/batch\n",
      "Epoch 2/10 Iteration: 7700 Avg. Training loss: 4.3621 0.3193 sec/batch\n",
      "Epoch 2/10 Iteration: 7800 Avg. Training loss: 4.3777 0.3047 sec/batch\n",
      "Epoch 2/10 Iteration: 7900 Avg. Training loss: 4.3313 0.3235 sec/batch\n",
      "Epoch 2/10 Iteration: 8000 Avg. Training loss: 4.3389 0.3292 sec/batch\n",
      "Nearest to not: cases, findslot, millionaires, own, meets, believers, practiced, mimo,\n",
      "Nearest to d: footballer, c, american, hurston, lfo, kerr, norwegian, jeane,\n",
      "Nearest to time: because, fines, specifying, mimo, transcription, shades, felidae, shruti,\n",
      "Nearest to use: lrc, admit, conform, consumers, faster, violet, beta, extremity,\n",
      "Nearest to was: ticker, maggiore, nuncius, disestablished, connoting, mambo, aj, anna,\n",
      "Nearest to who: compatriots, strummer, sanction, protestantism, gradus, erbium, later, temples,\n",
      "Nearest to six: seven, three, eight, one, productivity, koufax, ulam, five,\n",
      "Nearest to an: cantor, conectiva, quicklime, triomphe, maastricht, korzybski, pcl, hellish,\n",
      "Nearest to something: glace, memory, gunter, loki, oberon, minimized, fins, prohibit,\n",
      "Nearest to versions: communicative, specification, ux, trucks, query, filenames, tiresias, node,\n",
      "Nearest to shows: teilhard, clarify, dvds, francis, ingredient, stupa, recalled, reveal,\n",
      "Nearest to alternative: cryoprotectant, like, directory, represent, kindergartens, particulary, ifex, datapoint,\n",
      "Nearest to experience: linings, transcendence, pasternak, umi, begging, maneuvers, metalloid, admit,\n",
      "Nearest to engine: bonds, engines, cobalt, steam, refractive, cli, cannons, hemispheres,\n",
      "Nearest to stage: pyr, gustavus, aces, recreates, barnet, emeritus, seuss, xis,\n",
      "Nearest to police: faint, unlucky, trading, unwed, athenian, commanded, anatoly, entombed,\n"
     ]
    },
    {
     "name": "stdout",
     "output_type": "stream",
     "text": [
      "Epoch 2/10 Iteration: 8100 Avg. Training loss: 4.3539 0.3121 sec/batch\n",
      "Epoch 2/10 Iteration: 8200 Avg. Training loss: 4.3066 0.3301 sec/batch\n",
      "Epoch 2/10 Iteration: 8300 Avg. Training loss: 4.3647 0.3175 sec/batch\n",
      "Epoch 2/10 Iteration: 8400 Avg. Training loss: 4.3776 0.3038 sec/batch\n",
      "Epoch 2/10 Iteration: 8500 Avg. Training loss: 4.3869 18.3037 sec/batch\n",
      "Epoch 2/10 Iteration: 8600 Avg. Training loss: 4.2981 0.4098 sec/batch\n",
      "Epoch 2/10 Iteration: 8700 Avg. Training loss: 4.3175 7.5548 sec/batch\n",
      "Epoch 2/10 Iteration: 8800 Avg. Training loss: 4.3208 13.7356 sec/batch\n",
      "Epoch 2/10 Iteration: 8900 Avg. Training loss: 4.2247 19.4491 sec/batch\n",
      "Epoch 2/10 Iteration: 9000 Avg. Training loss: 4.3064 0.3979 sec/batch\n",
      "Nearest to not: cases, mimo, millionaires, findslot, meets, own, practiced, undesirable,\n",
      "Nearest to d: american, physicist, footballer, norwegian, educator, hurston, duke, georges,\n",
      "Nearest to time: because, fines, mimo, regained, shades, galatians, shruti, fodder,\n",
      "Nearest to use: lrc, faster, consumers, conform, violet, standardization, beta, admit,\n",
      "Nearest to was: nuncius, ticker, maggiore, disestablished, noblest, dispatched, mambo, came,\n",
      "Nearest to who: compatriots, sanction, strummer, gradus, erbium, gravestone, later, mellen,\n",
      "Nearest to six: seven, eight, three, one, five, four, comedian, koufax,\n",
      "Nearest to an: cantor, triomphe, korzybski, conectiva, hellish, quicklime, maastricht, pcl,\n",
      "Nearest to something: glace, memory, loki, gunter, oberon, dress, notifying, fins,\n",
      "Nearest to versions: communicative, ux, specification, query, os, aforementioned, tiresias, filenames,\n",
      "Nearest to shows: teilhard, dvds, reveal, stupa, recalled, ingredient, francis, carnation,\n",
      "Nearest to alternative: cryoprotectant, directory, like, kindergartens, represent, datapoint, ominously, excitable,\n",
      "Nearest to experience: linings, transcendence, pasternak, umi, metalloid, maneuvers, reinstating, admit,\n",
      "Nearest to engine: engines, bonds, steam, cobalt, refractive, cannons, cli, naca,\n",
      "Nearest to stage: pyr, gustavus, recreates, barnet, aces, xis, seuss, emeritus,\n",
      "Nearest to police: commanded, anatoly, unlucky, faint, trading, unwed, entombed, kinder,\n",
      "Epoch 2/10 Iteration: 9100 Avg. Training loss: 4.3278 9.3825 sec/batch\n",
      "Epoch 2/10 Iteration: 9200 Avg. Training loss: 4.3083 303.8703 sec/batch\n",
      "Epoch 3/10 Iteration: 9300 Avg. Training loss: 4.3368 0.2087 sec/batch\n",
      "Epoch 3/10 Iteration: 9400 Avg. Training loss: 4.2684 0.3388 sec/batch\n",
      "Epoch 3/10 Iteration: 9500 Avg. Training loss: 4.2174 0.3164 sec/batch\n",
      "Epoch 3/10 Iteration: 9600 Avg. Training loss: 4.2435 0.3108 sec/batch\n",
      "Epoch 3/10 Iteration: 9700 Avg. Training loss: 4.2270 0.3076 sec/batch\n",
      "Epoch 3/10 Iteration: 9800 Avg. Training loss: 4.2308 0.3055 sec/batch\n",
      "Epoch 3/10 Iteration: 9900 Avg. Training loss: 4.2019 0.3150 sec/batch\n",
      "Epoch 3/10 Iteration: 10000 Avg. Training loss: 4.1847 0.3124 sec/batch\n",
      "Nearest to not: millionaires, findslot, mimo, cases, parthenogenesis, relegated, forma, undesirable,\n",
      "Nearest to d: physicist, american, c, lfo, norwegian, vladimir, hurston, footballer,\n",
      "Nearest to time: because, fines, regained, galatians, mimo, shades, fodder, shruti,\n",
      "Nearest to use: lrc, faster, violet, conform, consumers, guip, extremity, standardization,\n",
      "Nearest to was: disestablished, nuncius, maggiore, came, anna, noblest, until, ticker,\n",
      "Nearest to who: compatriots, strummer, gradus, sanction, erbium, protestantism, gravestone, sinfield,\n",
      "Nearest to six: seven, eight, three, one, five, four, ulam, egon,\n",
      "Nearest to an: cantor, conectiva, estonia, pcl, maastricht, hellish, triomphe, quicklime,\n",
      "Nearest to something: glace, memory, dress, loki, gunter, oberon, notifying, killer,\n",
      "Nearest to versions: ux, communicative, trucks, query, powerpc, os, specification, filenames,\n",
      "Nearest to shows: teilhard, dvds, reveal, stupa, carnation, ingredient, headlining, francis,\n",
      "Nearest to alternative: cryoprotectant, directory, kindergartens, like, represent, excitable, datapoint, maelstrom,\n",
      "Nearest to experience: linings, transcendence, umi, pasternak, maneuvers, admit, metalloid, paracompact,\n",
      "Nearest to engine: engines, steam, cannons, catapults, bonds, cli, wheel, naca,\n",
      "Nearest to stage: pyr, xis, recreates, barnet, gustavus, emeritus, aces, seuss,\n",
      "Nearest to police: unlucky, commanded, anatoly, athenian, rescheduled, correspondent, heylin, unwed,\n",
      "Epoch 3/10 Iteration: 10100 Avg. Training loss: 4.2701 0.3259 sec/batch\n",
      "Epoch 3/10 Iteration: 10200 Avg. Training loss: 4.2245 0.3011 sec/batch\n",
      "Epoch 3/10 Iteration: 10300 Avg. Training loss: 4.1980 0.2969 sec/batch\n",
      "Epoch 3/10 Iteration: 10400 Avg. Training loss: 4.1263 0.3030 sec/batch\n",
      "Epoch 3/10 Iteration: 10500 Avg. Training loss: 4.1900 0.3003 sec/batch\n",
      "Epoch 3/10 Iteration: 10600 Avg. Training loss: 4.1945 0.3003 sec/batch\n",
      "Epoch 3/10 Iteration: 10700 Avg. Training loss: 4.1780 0.2981 sec/batch\n",
      "Epoch 3/10 Iteration: 10800 Avg. Training loss: 4.1866 0.2959 sec/batch\n",
      "Epoch 3/10 Iteration: 10900 Avg. Training loss: 4.1993 0.3031 sec/batch\n",
      "Epoch 3/10 Iteration: 11000 Avg. Training loss: 4.1928 0.2924 sec/batch\n",
      "Nearest to not: mimo, millionaires, cases, findslot, believers, parthenogenesis, meets, undesirable,\n",
      "Nearest to d: c, lfo, hurston, kerr, jeane, alta, physicist, vladimir,\n",
      "Nearest to time: because, mimo, galatians, fines, regained, specifying, modules, anticlockwise,\n",
      "Nearest to use: lrc, conform, violet, faster, consumers, standardization, fractures, extremity,\n",
      "Nearest to was: disestablished, maggiore, nuncius, noblest, ticker, anna, came, loomis,\n",
      "Nearest to who: compatriots, strummer, sanction, gravestone, gradus, erbium, tubules, vallarta,\n",
      "Nearest to six: seven, three, eight, one, five, koufax, four, nf,\n",
      "Nearest to an: cantor, pcl, conectiva, quicklime, hellish, initialized, korzybski, invariants,\n",
      "Nearest to something: glace, dress, memory, oberon, notifying, gunter, loki, fins,\n",
      "Nearest to versions: ux, communicative, query, powerpc, trucks, tiresias, multics, os,\n",
      "Nearest to shows: teilhard, dvds, reveal, recalled, stupa, headlining, sovereignly, clarify,\n",
      "Nearest to alternative: cryoprotectant, directory, kindergartens, like, datapoint, represent, excitable, intricate,\n",
      "Nearest to experience: linings, transcendence, pasternak, umi, maneuvers, admit, paracompact, almighty,\n",
      "Nearest to engine: engines, steam, catapults, bonds, naca, cli, cannons, ventilation,\n",
      "Nearest to stage: pyr, recreates, gustavus, xis, barnet, emeritus, aces, yard,\n",
      "Nearest to police: unlucky, anatoly, espoused, commanded, athenian, rescheduled, rectal, isi,\n",
      "Epoch 3/10 Iteration: 11100 Avg. Training loss: 4.1855 5.5872 sec/batch\n",
      "Epoch 3/10 Iteration: 11200 Avg. Training loss: 4.2028 2.4598 sec/batch\n",
      "Epoch 3/10 Iteration: 11300 Avg. Training loss: 4.1552 0.3176 sec/batch\n",
      "Epoch 3/10 Iteration: 11400 Avg. Training loss: 4.1495 0.3910 sec/batch\n",
      "Epoch 3/10 Iteration: 11500 Avg. Training loss: 4.1846 0.3291 sec/batch\n",
      "Epoch 3/10 Iteration: 11600 Avg. Training loss: 4.1823 0.3270 sec/batch\n",
      "Epoch 3/10 Iteration: 11700 Avg. Training loss: 4.2234 0.3379 sec/batch\n",
      "Epoch 3/10 Iteration: 11800 Avg. Training loss: 4.1665 0.3417 sec/batch\n"
     ]
    }
   ],
   "source": [
    "epochs = 10\n",
    "batch_size = 1000\n",
    "window_size = 10\n",
    "\n",
    "with train_graph.as_default():\n",
    "    saver = tf.train.Saver()\n",
    "\n",
    "with tf.Session(graph=train_graph) as sess:\n",
    "    iteration = 1\n",
    "    loss = 0\n",
    "    sess.run(tf.global_variables_initializer())\n",
    "\n",
    "    for e in range(1, epochs+1):\n",
    "        batches = get_batches(train_words, batch_size, window_size)\n",
    "        start = time.time()\n",
    "        for x, y in batches:\n",
    "            \n",
    "            feed = {inputs: x,\n",
    "                    labels: np.array(y)[:, None]}\n",
    "            train_loss, _ = sess.run([cost, optimizer], feed_dict=feed)\n",
    "            \n",
    "            loss += train_loss\n",
    "            \n",
    "            if iteration % 100 == 0: \n",
    "                end = time.time()\n",
    "                print(\"Epoch {}/{}\".format(e, epochs),\n",
    "                      \"Iteration: {}\".format(iteration),\n",
    "                      \"Avg. Training loss: {:.4f}\".format(loss/100),\n",
    "                      \"{:.4f} sec/batch\".format((end-start)/100))\n",
    "                loss = 0\n",
    "                start = time.time()\n",
    "            \n",
    "            if iteration % 1000 == 0:\n",
    "                ## From Thushan Ganegedara's implementation\n",
    "                # note that this is expensive (~20% slowdown if computed every 500 steps)\n",
    "                sim = similarity.eval()\n",
    "                for i in range(valid_size):\n",
    "                    valid_word = int_to_vocab[valid_examples[i]]\n",
    "                    top_k = 8 # number of nearest neighbors\n",
    "                    nearest = (-sim[i, :]).argsort()[1:top_k+1]\n",
    "                    log = 'Nearest to %s:' % valid_word\n",
    "                    for k in range(top_k):\n",
    "                        close_word = int_to_vocab[nearest[k]]\n",
    "                        log = '%s %s,' % (log, close_word)\n",
    "                    print(log)\n",
    "            \n",
    "            iteration += 1\n",
    "    save_path = saver.save(sess, \"checkpoints/text8.ckpt\")\n",
    "    embed_mat = sess.run(normalized_embedding)"
   ]
  },
  {
   "cell_type": "markdown",
   "metadata": {},
   "source": [
    "Restore the trained network if you need to:"
   ]
  },
  {
   "cell_type": "code",
   "execution_count": null,
   "metadata": {
    "collapsed": true
   },
   "outputs": [],
   "source": [
    "with train_graph.as_default():\n",
    "    saver = tf.train.Saver()\n",
    "\n",
    "with tf.Session(graph=train_graph) as sess:\n",
    "    saver.restore(sess, tf.train.latest_checkpoint('checkpoints'))\n",
    "    embed_mat = sess.run(embedding)"
   ]
  },
  {
   "cell_type": "markdown",
   "metadata": {},
   "source": [
    "## Visualizing the word vectors\n",
    "\n",
    "Below we'll use T-SNE to visualize how our high-dimensional word vectors cluster together. T-SNE is used to project these vectors into two dimensions while preserving local stucture. Check out [this post from Christopher Olah](http://colah.github.io/posts/2014-10-Visualizing-MNIST/) to learn more about T-SNE and other ways to visualize high-dimensional data."
   ]
  },
  {
   "cell_type": "code",
   "execution_count": null,
   "metadata": {
    "collapsed": true
   },
   "outputs": [],
   "source": [
    "%matplotlib inline\n",
    "%config InlineBackend.figure_format = 'retina'\n",
    "\n",
    "import matplotlib.pyplot as plt\n",
    "from sklearn.manifold import TSNE"
   ]
  },
  {
   "cell_type": "code",
   "execution_count": null,
   "metadata": {
    "collapsed": true
   },
   "outputs": [],
   "source": [
    "viz_words = 500\n",
    "tsne = TSNE()\n",
    "embed_tsne = tsne.fit_transform(embed_mat[:viz_words, :])"
   ]
  },
  {
   "cell_type": "code",
   "execution_count": null,
   "metadata": {
    "collapsed": true
   },
   "outputs": [],
   "source": [
    "fig, ax = plt.subplots(figsize=(14, 14))\n",
    "for idx in range(viz_words):\n",
    "    plt.scatter(*embed_tsne[idx, :], color='steelblue')\n",
    "    plt.annotate(int_to_vocab[idx], (embed_tsne[idx, 0], embed_tsne[idx, 1]), alpha=0.7)"
   ]
  }
 ],
 "metadata": {
  "kernelspec": {
   "display_name": "Python 3",
   "language": "python",
   "name": "python3"
  },
  "language_info": {
   "codemirror_mode": {
    "name": "ipython",
    "version": 3
   },
   "file_extension": ".py",
   "mimetype": "text/x-python",
   "name": "python",
   "nbconvert_exporter": "python",
   "pygments_lexer": "ipython3",
   "version": "3.6.2"
  }
 },
 "nbformat": 4,
 "nbformat_minor": 2
}
